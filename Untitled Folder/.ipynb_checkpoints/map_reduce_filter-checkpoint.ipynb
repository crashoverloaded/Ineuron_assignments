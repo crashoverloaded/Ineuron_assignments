{
 "cells": [
  {
   "cell_type": "code",
   "execution_count": 1,
   "id": "20e673c8",
   "metadata": {},
   "outputs": [],
   "source": [
    "l = [2,3,4,5,5,6]\n"
   ]
  },
  {
   "cell_type": "markdown",
   "id": "61f5a46f",
   "metadata": {},
   "source": [
    "## MAP OPERATION"
   ]
  },
  {
   "cell_type": "code",
   "execution_count": 2,
   "id": "a378d0bb",
   "metadata": {},
   "outputs": [],
   "source": [
    "def square(n):\n",
    "    return n**2"
   ]
  },
  {
   "cell_type": "code",
   "execution_count": 4,
   "id": "2b8aba76",
   "metadata": {},
   "outputs": [
    {
     "data": {
      "text/plain": [
       "[4, 9, 16, 25, 25, 36]"
      ]
     },
     "execution_count": 4,
     "metadata": {},
     "output_type": "execute_result"
    }
   ],
   "source": [
    "# MAPping of each and every element with the function given \n",
    "# In this case , we are passing sqaure function , so that we can square every element in list l\n",
    "# It just do one to one mapping with function\n",
    "list(map(square,l))"
   ]
  },
  {
   "cell_type": "code",
   "execution_count": 7,
   "id": "4cc80e1f",
   "metadata": {},
   "outputs": [
    {
     "data": {
      "text/plain": [
       "[4, 9, 16, 25, 25, 36]"
      ]
     },
     "execution_count": 7,
     "metadata": {},
     "output_type": "execute_result"
    }
   ],
   "source": [
    "# Same output using lamda function\n",
    "list(map(lambda x : x**2, l))"
   ]
  },
  {
   "cell_type": "markdown",
   "id": "3981a77e",
   "metadata": {},
   "source": [
    "## REDUCE OPERATION"
   ]
  },
  {
   "cell_type": "code",
   "execution_count": 16,
   "id": "3cc6746d",
   "metadata": {},
   "outputs": [
    {
     "data": {
      "text/plain": [
       "2"
      ]
     },
     "execution_count": 16,
     "metadata": {},
     "output_type": "execute_result"
    }
   ],
   "source": [
    "from functools import reduce\n",
    "l = [2,3,4,5,5,6]\n",
    "\n",
    "# while map , just maps the function through each element \n",
    "# Reduce just apply the function given and accumulate it into a single value \n",
    "# In below example , we have summed all the elements in the list l \n",
    "reduce(lambda a,b : a+b,l)"
   ]
  },
  {
   "cell_type": "markdown",
   "id": "8ae570b8",
   "metadata": {},
   "source": [
    "## FILTER FUNCTION"
   ]
  },
  {
   "cell_type": "code",
   "execution_count": 24,
   "id": "9416651d",
   "metadata": {},
   "outputs": [
    {
     "data": {
      "text/plain": [
       "[2, 4, 6]"
      ]
     },
     "execution_count": 24,
     "metadata": {},
     "output_type": "execute_result"
    }
   ],
   "source": [
    "l = [2,3,4,5,5,6]l just filter the output based on the\n",
    "\n",
    "# It will just filter the output based on the given function, like in this case\n",
    "# we are filtering even numbers from the list l\n",
    "list(filter(lambda x : x % 2==0 , l)not()not("
   ]
  },
  {
   "cell_type": "code",
   "execution_count": null,
   "id": "9dd295d8",
   "metadata": {},
   "outputs": [],
   "source": []
  }
 ],
 "metadata": {
  "kernelspec": {
   "display_name": "Python 3 (ipykernel)",
   "language": "python",
   "name": "python3"
  },
  "language_info": {
   "codemirror_mode": {
    "name": "ipython",
    "version": 3
   },
   "file_extension": ".py",
   "mimetype": "text/x-python",
   "name": "python",
   "nbconvert_exporter": "python",
   "pygments_lexer": "ipython3",
   "version": "3.9.7"
  }
 },
 "nbformat": 4,
 "nbformat_minor": 5
}
