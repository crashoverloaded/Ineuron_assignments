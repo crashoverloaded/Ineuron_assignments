{
 "cells": [
  {
   "cell_type": "code",
   "execution_count": 36,
   "id": "c96e8fe7",
   "metadata": {},
   "outputs": [],
   "source": [
    "f = open(\"test.txt\",\"w\")\n",
    "# w in open() is the mode of command , w-> write , r -> read , b -> binary mode\n",
    "# writing data is used by \"w\""
   ]
  },
  {
   "cell_type": "code",
   "execution_count": 37,
   "id": "b53cf5ac",
   "metadata": {},
   "outputs": [
    {
     "data": {
      "text/plain": [
       "35"
      ]
     },
     "execution_count": 37,
     "metadata": {},
     "output_type": "execute_result"
    }
   ],
   "source": [
    "f.write(\"Random text \\n This is the one thing\")"
   ]
  },
  {
   "cell_type": "code",
   "execution_count": 38,
   "id": "41630b71",
   "metadata": {},
   "outputs": [],
   "source": [
    "f.close()"
   ]
  },
  {
   "cell_type": "code",
   "execution_count": 39,
   "id": "b799e9d7",
   "metadata": {},
   "outputs": [
    {
     "data": {
      "text/plain": [
       "'Random text \\n This is the one thing'"
      ]
     },
     "execution_count": 39,
     "metadata": {},
     "output_type": "execute_result"
    }
   ],
   "source": [
    "f = open(\"test.txt\")\n",
    "f.read()"
   ]
  },
  {
   "cell_type": "code",
   "execution_count": 18,
   "id": "74c7559c",
   "metadata": {},
   "outputs": [
    {
     "data": {
      "text/plain": [
       "'t \\n This is the one thing'"
      ]
     },
     "execution_count": 18,
     "metadata": {},
     "output_type": "execute_result"
    }
   ],
   "source": [
    "# reading data from nth position\n",
    "f.seek(10)\n",
    "f.read()\n"
   ]
  },
  {
   "cell_type": "code",
   "execution_count": 19,
   "id": "7e3e6816",
   "metadata": {},
   "outputs": [
    {
     "data": {
      "text/plain": [
       "'Random text \\n This is the one thing'"
      ]
     },
     "execution_count": 19,
     "metadata": {},
     "output_type": "execute_result"
    }
   ],
   "source": [
    "\n",
    "# Hence for resetting the cursor to first position we can do\n",
    "f.seek(0)\n",
    "f.read()"
   ]
  },
  {
   "cell_type": "code",
   "execution_count": 21,
   "id": "d79bdf20",
   "metadata": {},
   "outputs": [
    {
     "data": {
      "text/plain": [
       "'Random text'"
      ]
     },
     "execution_count": 21,
     "metadata": {},
     "output_type": "execute_result"
    }
   ],
   "source": [
    "# but if you want to read limited text from current position of cursor , you must do \n",
    "f.seek(0) # this will change the position of cursor to 0 , it is not necessary to do this\n",
    "f.read(11) # this will read 11 characters from current cursor position"
   ]
  },
  {
   "cell_type": "code",
   "execution_count": 22,
   "id": "c6c5a5a6",
   "metadata": {},
   "outputs": [],
   "source": [
    "f.close()"
   ]
  },
  {
   "cell_type": "code",
   "execution_count": 35,
   "id": "46cd85c5",
   "metadata": {},
   "outputs": [],
   "source": [
    "# for reading a single line from file\n",
    "f = open(\"test.txt\")\n",
    "f.readline()\n",
    "f.close()\n"
   ]
  },
  {
   "cell_type": "code",
   "execution_count": 32,
   "id": "bedccfe4",
   "metadata": {},
   "outputs": [],
   "source": [
    "f = open(\"test.txt\",\"r+\")\n",
    "f.writelines(\"fdsjug dfsaljkhgd akjsdgh sa\")\n",
    "f.close()"
   ]
  },
  {
   "cell_type": "code",
   "execution_count": 43,
   "id": "08a45546",
   "metadata": {},
   "outputs": [
    {
     "data": {
      "text/plain": [
       "['.deepdirs.swp',\n",
       " 'ch',\n",
       " 'Desktop',\n",
       " 'FavBooks.txt',\n",
       " 'code1.java',\n",
       " 'stats.py',\n",
       " 'space.py',\n",
       " 'a.out',\n",
       " 'code.cpp',\n",
       " '.shellcode.c.swp',\n",
       " '.cache',\n",
       " 'lsfile',\n",
       " 'code.asm',\n",
       " 'code.c',\n",
       " 'code2.asm',\n",
       " 'script2-2.sed',\n",
       " 'Arduino',\n",
       " 'test.txt',\n",
       " 'scripta.sh',\n",
       " 'Public',\n",
       " 'xyz.txt',\n",
       " 'Computer Science',\n",
       " 'command.txt',\n",
       " 'code',\n",
       " 'code2.java',\n",
       " 'class.tar.gz',\n",
       " 'Music',\n",
       " 'abc',\n",
       " 'filename',\n",
       " 'anaconda3',\n",
       " 'emails.txt',\n",
       " 'code1.r',\n",
       " 'menu.bash',\n",
       " 'c',\n",
       " 'c.c',\n",
       " '.var',\n",
       " 'script.sh',\n",
       " '.java',\n",
       " 'c.txt',\n",
       " 'special',\n",
       " 'Process.h.gch',\n",
       " 'gs.py',\n",
       " 'an.py',\n",
       " 'Computer Science.save.1',\n",
       " 'shellcode.c',\n",
       " 'lab4a_Act2.py',\n",
       " 'eclipse',\n",
       " '.oracle_jre_usage',\n",
       " 'Decreasing_Frequency.txt',\n",
       " 'code.s',\n",
       " 'aa.py',\n",
       " '.mozilla',\n",
       " '.sudo_as_admin_successful',\n",
       " 'Videos',\n",
       " 'code4.r',\n",
       " '.steam',\n",
       " 'lab5.sh',\n",
       " '.vim',\n",
       " 'qq.py',\n",
       " '.-01.kismet.netxml',\n",
       " 'code.db',\n",
       " 'code.sh',\n",
       " 'special5to10',\n",
       " 'myvul.c',\n",
       " '.pki',\n",
       " 'client.py',\n",
       " 'mips_to_c',\n",
       " 'asd',\n",
       " 'users',\n",
       " 'num.py',\n",
       " 'finalfile.txt',\n",
       " 'perf_tasks.bash',\n",
       " '.p2',\n",
       " 'server.py',\n",
       " 'code2.py',\n",
       " 'fiveproc',\n",
       " 'paypal.py',\n",
       " '.ipynb_checkpoints',\n",
       " 'code5.r',\n",
       " 'diskusage.bash',\n",
       " 'code2.r',\n",
       " 'code11.asm',\n",
       " 'code.perl',\n",
       " 'code1.e',\n",
       " '\\xa0summary.txt\\xa0',\n",
       " 'ENGT322',\n",
       " 'code.lisp',\n",
       " '.ipython',\n",
       " 'ss.py',\n",
       " 'code12.c',\n",
       " 'doe.py',\n",
       " 'numbers.txt',\n",
       " 'code.rkt',\n",
       " 'song500',\n",
       " 'code.r',\n",
       " 'Main.java',\n",
       " 'co.py',\n",
       " '.gnupg',\n",
       " 'prog.py',\n",
       " '.-01.log.csv',\n",
       " 'deepdirs',\n",
       " 'hist-count2.py',\n",
       " \"'\",\n",
       " 'thifile',\n",
       " 'Ineuron_assignments',\n",
       " 'Downloads',\n",
       " '.local',\n",
       " '.-01.csv',\n",
       " 'myvul',\n",
       " 'numbers.dat',\n",
       " 'code.java',\n",
       " '.eclipse',\n",
       " 'naming.py',\n",
       " '.config',\n",
       " 'script1-5.sed',\n",
       " 'code.mat',\n",
       " 'Untitled.ipynb',\n",
       " 'students.txt',\n",
       " 'vector.py',\n",
       " '.code4.asm.swp',\n",
       " '.code.java.swo',\n",
       " 'count_lines.py',\n",
       " 'dij.cpp',\n",
       " 'code.octave',\n",
       " 'sample_dir',\n",
       " 'final.txt',\n",
       " 'r.py',\n",
       " 'a.py',\n",
       " 'Password.java',\n",
       " '.code.perl.swp',\n",
       " 'a.txt',\n",
       " 'Documents',\n",
       " '.-01.cap',\n",
       " 'Groceries',\n",
       " 'quiz.bash',\n",
       " '.bash_logout',\n",
       " '.bashrc',\n",
       " 'marks.py',\n",
       " 'code.groovy',\n",
       " 'time_press.py',\n",
       " '.zoom',\n",
       " 'code6.r',\n",
       " '.ss..swp',\n",
       " 'Dumb.And.Dumber.1994.720p.BluRay.x264.YIFY.srt',\n",
       " '.puppet',\n",
       " '.selected_editor',\n",
       " '.stats.py.swp',\n",
       " 'shiprates_small.txt',\n",
       " 'ID_Courses',\n",
       " 'project1',\n",
       " 'ls.out',\n",
       " '.wget-hsts',\n",
       " 'c.py',\n",
       " 'capability',\n",
       " 'example',\n",
       " 'public_html',\n",
       " 'food',\n",
       " 'song811',\n",
       " 'now',\n",
       " 'midterm2.py',\n",
       " 'Templates',\n",
       " 'ans.py',\n",
       " 'pax.mk',\n",
       " '__pycache__',\n",
       " 'even.txt',\n",
       " 'management7.sh',\n",
       " 'Pictures',\n",
       " 'qq',\n",
       " 'value.py',\n",
       " '.Rhistory',\n",
       " 'high.csv',\n",
       " 'tax.bash',\n",
       " 'script3.sed',\n",
       " 'script4-4.sed',\n",
       " 'script1.sed',\n",
       " 'c.r',\n",
       " '.viminfo',\n",
       " 'main.cpp',\n",
       " '\\\\',\n",
       " 'co',\n",
       " 'code.l',\n",
       " 'Untitled1.ipynb',\n",
       " 'ls.out.gz',\n",
       " 'house1',\n",
       " 'unix.txt',\n",
       " '.gnome',\n",
       " 'example.txt',\n",
       " '.swt',\n",
       " 'hist-count.py',\n",
       " 'found',\n",
       " '.arduino15',\n",
       " 'mypath.txt',\n",
       " 'code2.',\n",
       " 'code21.r',\n",
       " '.python_history-06734.tmp',\n",
       " '.bash_history',\n",
       " 'match.doc}',\n",
       " 'midterm',\n",
       " 'testing',\n",
       " 'text',\n",
       " 'data.txt',\n",
       " 'E-Way Bill System.pdf',\n",
       " 'lex.yy.c',\n",
       " '.conda',\n",
       " 'Rlibs',\n",
       " 'main.o',\n",
       " 'Fils',\n",
       " '.jupyter',\n",
       " 'code.javascript',\n",
       " 'code.sml',\n",
       " 'RiskAnalysis',\n",
       " '.-01.kismet.csv',\n",
       " 'code0.r',\n",
       " 'b.txt',\n",
       " 'song821',\n",
       " 'users.txt',\n",
       " 'etclist',\n",
       " 'code3.asm',\n",
       " 'backup-home',\n",
       " 'test.csv',\n",
       " 'Untitled2.ipynb',\n",
       " 'Part2a',\n",
       " 'fiveproc.c',\n",
       " '.gitconfig',\n",
       " 'call_shellcode.c',\n",
       " 'QA_pairs.txt',\n",
       " 'cod.txt',\n",
       " 'Dumb.And.Dumber.1994.720p.BluRay.x264.YIFY.mp4',\n",
       " 'exampledir',\n",
       " 'code.py',\n",
       " 'e.py',\n",
       " '.steampath',\n",
       " '.code.java.swn',\n",
       " 'capability.c',\n",
       " 'hour.bash',\n",
       " 'Computer Science.save',\n",
       " 'found.errs',\n",
       " '.menu.bash.swp',\n",
       " 'code3.r',\n",
       " 'filename.bin',\n",
       " '.git-credentials',\n",
       " '.code.java.swp',\n",
       " 'crp.py',\n",
       " 'notes',\n",
       " 'Process.h',\n",
       " 'shiprates_large.txt',\n",
       " 'loginname.txt',\n",
       " 'code1.py',\n",
       " 'profit.py',\n",
       " 'song100',\n",
       " 'code.jav',\n",
       " 'shiprates_medium.txt',\n",
       " 'code.bash',\n",
       " '.steampid',\n",
       " 'gpp2.cpp',\n",
       " 'call_shellcode',\n",
       " 'code.scheme',\n",
       " 'pyramid.py',\n",
       " '.profile',\n",
       " 'cat',\n",
       " 'demo.java',\n",
       " 'code.3',\n",
       " 'code1.asm',\n",
       " 'inputa',\n",
       " 'class',\n",
       " 'eclipse-workspace',\n",
       " 'Numbers.txt',\n",
       " 'renamed.txt',\n",
       " '.python_history',\n",
       " 'PasswordManager.py',\n",
       " 'inputb',\n",
       " 'Fruit']"
      ]
     },
     "execution_count": 43,
     "metadata": {},
     "output_type": "execute_result"
    }
   ],
   "source": []
  },
  {
   "cell_type": "code",
   "execution_count": null,
   "id": "4bc039ba",
   "metadata": {},
   "outputs": [],
   "source": []
  }
 ],
 "metadata": {
  "kernelspec": {
   "display_name": "Python 3 (ipykernel)",
   "language": "python",
   "name": "python3"
  },
  "language_info": {
   "codemirror_mode": {
    "name": "ipython",
    "version": 3
   },
   "file_extension": ".py",
   "mimetype": "text/x-python",
   "name": "python",
   "nbconvert_exporter": "python",
   "pygments_lexer": "ipython3",
   "version": "3.9.7"
  }
 },
 "nbformat": 4,
 "nbformat_minor": 5
}
